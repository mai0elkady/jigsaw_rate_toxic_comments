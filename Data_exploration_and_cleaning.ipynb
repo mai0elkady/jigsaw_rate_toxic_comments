{
  "nbformat": 4,
  "nbformat_minor": 0,
  "metadata": {
    "colab": {
      "name": "Data_exploration_and_cleaning.ipynb",
      "provenance": []
    },
    "kernelspec": {
      "name": "python3",
      "display_name": "Python 3"
    },
    "language_info": {
      "name": "python"
    }
  },
  "cells": [
    {
      "cell_type": "code",
      "execution_count": 1,
      "metadata": {
        "colab": {
          "base_uri": "https://localhost:8080/"
        },
        "id": "8IxqSmnawjmq",
        "outputId": "34288558-5cd9-4e81-c05b-6315760b97cc"
      },
      "outputs": [
        {
          "output_type": "stream",
          "name": "stdout",
          "text": [
            "Mounted at /content/drive\n"
          ]
        }
      ],
      "source": [
        "from google.colab import drive\n",
        "drive.mount('/content/drive')"
      ]
    },
    {
      "cell_type": "code",
      "source": [
        "# change to the directory that contains the data\n",
        "main_path = \"/content/drive/MyDrive/UdacityND/project_caps/\""
      ],
      "metadata": {
        "id": "xt9Zn5QhXA5k"
      },
      "execution_count": 2,
      "outputs": []
    },
    {
      "cell_type": "code",
      "source": [
        "jigsaw_path = main_path+\"train.csv\"\n",
        "val_data_path = main_path+\"validation_data.csv\"\n",
        "comments_to_score_path = main_path+\"comments_to_score.csv\"\n",
        "ruddit_path = main_path+\"ruddit_with_text.csv\"\n",
        "new_data_path = main_path+\"train_data_version2.csv\""
      ],
      "metadata": {
        "id": "IfaufJ3owoIv"
      },
      "execution_count": 3,
      "outputs": []
    },
    {
      "cell_type": "code",
      "source": [
        "# Imports\n",
        "import pandas as pd\n",
        "import numpy as np\n",
        "from matplotlib import pyplot as plt\n",
        "import random\n",
        "random.seed(123)\n",
        "import sys\n",
        "import re\n",
        "import nltk\n",
        "nltk.download('punkt')\n",
        "nltk.download('stopwords')\n",
        "nltk.download('wordnet')\n",
        "from nltk.tokenize import word_tokenize\n",
        "from nltk.tokenize import sent_tokenize\n",
        "from nltk.stem import WordNetLemmatizer\n",
        "from nltk.corpus import stopwords\n",
        "import pickle\n",
        "import joblib\n",
        "\n",
        "import seaborn as sns\n",
        "sns.set_theme(style=\"whitegrid\")"
      ],
      "metadata": {
        "id": "YgbnsOoGwrP7",
        "colab": {
          "base_uri": "https://localhost:8080/"
        },
        "outputId": "c3b8102d-8c06-43f9-d1bd-469d3c0b2d1f"
      },
      "execution_count": 4,
      "outputs": [
        {
          "output_type": "stream",
          "name": "stdout",
          "text": [
            "[nltk_data] Downloading package punkt to /root/nltk_data...\n",
            "[nltk_data]   Unzipping tokenizers/punkt.zip.\n",
            "[nltk_data] Downloading package stopwords to /root/nltk_data...\n",
            "[nltk_data]   Unzipping corpora/stopwords.zip.\n",
            "[nltk_data] Downloading package wordnet to /root/nltk_data...\n",
            "[nltk_data]   Unzipping corpora/wordnet.zip.\n"
          ]
        }
      ]
    },
    {
      "cell_type": "code",
      "source": [
        "#Read in the data, ref: https://www.kaggle.com/andrej0marinchenko/best-score-0-856-jigsaw-for-beginners\n",
        "def read_jigsaw_toxic_data(train_df_path,  fold_num, use_folds = False, approach = 1):\n",
        "  '''\n",
        "  Read in the toxic jigsaw data\n",
        "  \n",
        "  Inputs:\n",
        "    train_df_path -> path of the file to read\n",
        "    fold_num -> indicates the number of folds if they are usen\n",
        "    use_folds -> whehter to use folds or not\n",
        "  Output: \n",
        "    balanced_df -> a balanced df that has 3 coloumns, comment_text is the text of the comment, toxic_vs_not whether the comment is toxic or not,\n",
        "  y the score of the toxicity calculated\n",
        "  '''\n",
        "  df = pd.read_csv(train_df_path)\n",
        "  toxic_cols = ['toxic', 'severe_toxic', 'obscene', 'threat','insult', 'identity_hate']\n",
        "  # add a coloumn to indicate whether the comment is toxic or not\n",
        "  # 0 and 1 approach\n",
        "  df['toxic_vs_not'] = np.where(df[toxic_cols].sum(axis=1)==0, 0, 1) #0 if not toxic, 1 if toxic\n",
        "  # another approach instead of 0 and 1\n",
        "  if(approach==1):\n",
        "    df['severe_toxic'] = df.severe_toxic * 2\n",
        "    df['y'] = (df[['toxic', 'severe_toxic', 'obscene', 'threat', 'insult', 'identity_hate']].sum(axis=1) ).astype(int)\n",
        "    df['y'] = df['y']/df['y'].max()\n",
        "  else:\n",
        "    df['obscene'] = df.obscene * 0.16\n",
        "    df['toxic'] = df.toxic * 0.32\n",
        "    df['threat'] = df.threat * 1.5\n",
        "    df['insult'] = df.insult * 0.64\n",
        "    df['severe_toxic'] = df.severe_toxic * 1.5\n",
        "    df['identity_hate'] = df.identity_hate * 1.5\n",
        "    df['y'] = (df[['toxic', 'severe_toxic', 'obscene', 'threat', 'insult', 'identity_hate']].sum(axis=1) ).astype(float)\n",
        "    #df['y'] = df['y']/df['y'].max()\n",
        "   \n",
        "  \n",
        "  fig, ax = plt.subplots()\n",
        "  ax = sns.countplot(x=\"toxic_vs_not\", data=df)\n",
        "  count_toxic = df['toxic_vs_not'].value_counts()[1]\n",
        "  print(count_toxic)\n",
        "  if(use_folds==False):\n",
        "    balanced_df = pd.concat([df[df.y>0].sample(frac=1, random_state = 10*(fold_num+1)),df[df.y==0].sample(int(count_toxic), random_state = 10*(fold_num+1))], axis=0)\n",
        "  else:\n",
        "    balanced_df = pd.concat([df[df.y>0].sample(frac=0.8, random_state = 10*(fold_num+1)),df[df.y==0].sample(int(0.8*count_toxic), random_state = 10*(fold_num+1))], axis=0)\n",
        "  fig2, ax2 = plt.subplots()\n",
        "  ax2 = sns.histplot(data=balanced_df,x='y',bins = 10, binwidth=0.08)\n",
        "  \n",
        "  return df\n",
        "  "
      ],
      "metadata": {
        "id": "yHvdI9r5wtmT"
      },
      "execution_count": 5,
      "outputs": []
    },
    {
      "cell_type": "code",
      "source": [
        "jigsaw_df = read_jigsaw_toxic_data(jigsaw_path,0 )"
      ],
      "metadata": {
        "colab": {
          "base_uri": "https://localhost:8080/",
          "height": 571
        },
        "id": "4nDX86kT-yS5",
        "outputId": "ae0d930b-c4f5-47c1-c5d4-7b8fe1600e47"
      },
      "execution_count": 6,
      "outputs": [
        {
          "output_type": "stream",
          "name": "stdout",
          "text": [
            "16225\n"
          ]
        },
        {
          "output_type": "display_data",
          "data": {
            "image/png": "[encoded data removed]",
            "text/plain": [
              "<Figure size 432x288 with 1 Axes>"
            ]
          },
          "metadata": {}
        },
        {
          "output_type": "display_data",
          "data": {
            "image/png": "[encoded data removed]",
            "text/plain": [
              "<Figure size 432x288 with 1 Axes>"
            ]
          },
          "metadata": {}
        }
      ]
    },
    {
      "cell_type": "code",
      "source": [
        "# ref: https://www.kaggle.com/andrej0marinchenko/best-score-0-856-jigsaw-for-beginners\n",
        "def read_ruddit_toxic_data(ruddit_path, fold_num = 0, use_folds = False):\n",
        "  '''\n",
        "  Read in ruddit toxic data\n",
        "  \n",
        "  Inputs:\n",
        "    ruddit_path  ->  path of the file to read\n",
        "    fold_num -> indicates the number of folds if they are usen\n",
        "    use_folds -> whehter to use folds or not\n",
        "  \n",
        "  Output: \n",
        "    df  -> a df that has 2 coloumns, comment_text is the text of the comment,\n",
        "  y the score of the toxicity calculated\n",
        "  '''\n",
        "  df = pd.read_csv(ruddit_path)\n",
        "  #print('Shape of Ruddit data is '+str(df.shape))\n",
        "  df = df[['txt', 'offensiveness_score']].rename(columns={'txt': 'comment_text','offensiveness_score':'y'})\n",
        "  fig, ax = plt.subplots()\n",
        "  ax = sns.histplot(data=df,x='y',bins = 10, binwidth=0.08)\n",
        "  df['y'] = (df['y'] - df.y.min()) / (df.y.max() - df.y.min()) \n",
        "  if(use_folds==True):\n",
        "    df = df.sample(frac=0.8, random_state = 10*(fold_num+1))\n",
        "  fig, ax = plt.subplots()\n",
        "  ax = sns.histplot(data=df,x='y',bins = 10, binwidth=0.08)\n",
        "  return df[['comment_text','y']]"
      ],
      "metadata": {
        "id": "Y4v2XbDd-2NC"
      },
      "execution_count": 7,
      "outputs": []
    },
    {
      "cell_type": "code",
      "source": [
        "ruddit_df = read_ruddit_toxic_data(ruddit_path)"
      ],
      "metadata": {
        "colab": {
          "base_uri": "https://localhost:8080/",
          "height": 553
        },
        "id": "EIwRJAzQZ-fr",
        "outputId": "d9fae10e-c009-46ee-8800-62f21ed35968"
      },
      "execution_count": 8,
      "outputs": [
        {
          "output_type": "display_data",
          "data": {
            "image/png": "[encoded data removed]",
            "text/plain": [
              "<Figure size 432x288 with 1 Axes>"
            ]
          },
          "metadata": {}
        },
        {
          "output_type": "display_data",
          "data": {
            "image/png": "[encoded data removed]",
            "text/plain": [
              "<Figure size 432x288 with 1 Axes>"
            ]
          },
          "metadata": {}
        }
      ]
    },
    {
      "cell_type": "code",
      "source": [
        "def read_new_toxic_data(new_path, fold_num = 0, use_folds = False):\n",
        "  '''\n",
        "  Read in alternative jigsaw data\n",
        "  \n",
        "  Inputs:\n",
        "    new_path -> path of the file to read\n",
        "    fold_num -> indicates the number of folds if they are usen\n",
        "    use_folds -> whehter to use folds or not\n",
        "  \n",
        "  Output: \n",
        "    df  -> a balanced df that has 2 coloumns, comment_text is the text of the comment,\n",
        "  y the score of the toxicity calculated\n",
        "  '''\n",
        "  df = pd.read_csv(new_path)\n",
        "  df = df[['text','y']].rename(columns={'text': 'comment_text'})\n",
        "  if(use_folds==True):\n",
        "    df = df.sample(frac=0.8, random_state = 10*(fold_num+1))\n",
        "\n",
        "  fig, ax = plt.subplots()\n",
        "  ax = sns.histplot(data=df,x='y',bins = 10, binwidth=0.08)\n",
        "  return df[['comment_text','y']]  "
      ],
      "metadata": {
        "id": "SfBLvekIYYfc"
      },
      "execution_count": 9,
      "outputs": []
    },
    {
      "cell_type": "code",
      "source": [
        "new_toxic_df = read_new_toxic_data(new_data_path)"
      ],
      "metadata": {
        "colab": {
          "base_uri": "https://localhost:8080/",
          "height": 287
        },
        "id": "z3n-6yW7ZCJL",
        "outputId": "6cb5f189-a323-418d-c464-a73a388a1923"
      },
      "execution_count": 10,
      "outputs": [
        {
          "output_type": "display_data",
          "data": {
            "image/png": "[encoded data removed]",
            "text/plain": [
              "<Figure size 432x288 with 1 Axes>"
            ]
          },
          "metadata": {}
        }
      ]
    },
    {
      "cell_type": "code",
      "source": [
        "def cleaner(text,use_lemmatizer=True):\n",
        "    '''\n",
        "    A function to clean the text\n",
        "    \n",
        "    Inputs:\n",
        "        text -> The text that should be cleaned \n",
        "    \n",
        "    Outputs:\n",
        "        clean_tokens -> A list of tokens extracted from text after case normalizing, removing stop words and lemmatizing  \n",
        "    '''\n",
        "    url_regex = 'http[s]?://(?:[a-zA-Z]|[0-9]|[$-_@.&+]|[!*\\(\\),]|(?:%[0-9a-fA-F][0-9a-fA-F]))+'\n",
        "    detected_urls = re.findall(url_regex, text)\n",
        "    for url in detected_urls:\n",
        "        text = text.replace(url, \"urlplaceholder\")\n",
        "    words = word_tokenize(text)\n",
        "    words = [word for word in words if word.isalpha()] #remove anything that is not alpha numeric\n",
        "    lemmatizer = WordNetLemmatizer()\n",
        "    clean_tokens = []\n",
        "    for tok in words:\n",
        "        if tok not in stopwords.words(\"english\"):\n",
        "            if(use_lemmatizer == True):\n",
        "              clean_tok = lemmatizer.lemmatize(tok).lower().strip()\n",
        "            else:\n",
        "              clean_tok = tok.lower().strip()\n",
        "            clean_tokens.append(clean_tok)\n",
        "    return ' '.join(clean_tokens)"
      ],
      "metadata": {
        "id": "11hdlEQdZGeD"
      },
      "execution_count": 11,
      "outputs": []
    },
    {
      "cell_type": "code",
      "source": [
        "# load and save clean jigsaw data\n",
        "cleaned_jigsaw_text = jigsaw_df['comment_text'].apply(cleaner)\n",
        "jigsaw_df['comment_text'] = cleaned_jigsaw_text\n",
        "jigsaw_df.to_csv('jigsaw.csv',index=False)"
      ],
      "metadata": {
        "id": "I5oTeITFoEAd"
      },
      "execution_count": null,
      "outputs": []
    },
    {
      "cell_type": "code",
      "source": [
        "# load and save clean ruddit data\n",
        "cleaned_ruddit_text = ruddit_df['comment_text'].apply(cleaner)\n",
        "ruddit_df['comment_text'] = cleaned_ruddit_text\n",
        "ruddit_df.to_csv('ruddit.csv',index=False)"
      ],
      "metadata": {
        "id": "K3ksh8y6uSjq"
      },
      "execution_count": null,
      "outputs": []
    },
    {
      "cell_type": "code",
      "source": [
        "# load and save clean new data\n",
        "cleaned_new_toxic_text = new_toxic_df['comment_text'].apply(cleaner)\n",
        "new_toxic_df['comment_text'] = cleaned_new_toxic_text\n",
        "new_toxic_df.to_csv('new_toxic.csv',index=False)"
      ],
      "metadata": {
        "id": "XMcxnQbyvEJt"
      },
      "execution_count": null,
      "outputs": []
    },
    {
      "cell_type": "code",
      "source": [
        "# load, clean and save validation data\n",
        "all_val_data = pd.read_csv(val_data_path)\n",
        "less_toxic_data = all_val_data['less_toxic'].apply(cleaner)\n",
        "more_toxic_data = all_val_data['more_toxic'].apply(cleaner)\n",
        "all_val_data['less_toxic'] =  less_toxic_data\n",
        "all_val_data['more_toxic'] = more_toxic_data\n",
        "all_val_data.to_csv('val_data.csv',index=False)\n"
      ],
      "metadata": {
        "id": "AHwvfbpAUv-6"
      },
      "execution_count": null,
      "outputs": []
    },
    {
      "cell_type": "code",
      "source": [
        "# load, clean and save new comments that are to be scored\n",
        "new_comments = pd.read_csv(comments_to_score_path)\n",
        "temp = new_comments['text'].apply(cleaner)\n",
        "new_comments['comments'] = temp\n",
        "new_comments.to_csv('comments_to_score.csv',index=False)"
      ],
      "metadata": {
        "id": "RNF6Z3w1XinZ"
      },
      "execution_count": null,
      "outputs": []
    }
  ]
}